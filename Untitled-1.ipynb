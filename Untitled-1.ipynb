{
 "cells": [
  {
   "cell_type": "code",
   "execution_count": null,
   "metadata": {},
   "outputs": [],
   "source": []
  },
  {
   "cell_type": "code",
   "execution_count": null,
   "metadata": {},
   "outputs": [],
   "source": [
    "print(\"a\")\n",
    "print(\"b\")\n",
    "print(\"c\")\n",
    "print(\"d\")\n",
    "print(\"e\")\n",
    "print(\"f\")\n",
    "print(\"g\")\n",
    "print(\"h\")\n",
    "print(\"i\")\n",
    "print(\"j\")\n"
   ]
  }
 ],
 "metadata": {
  "language_info": {
   "name": "python"
  }
 },
 "nbformat": 4,
 "nbformat_minor": 2
}
